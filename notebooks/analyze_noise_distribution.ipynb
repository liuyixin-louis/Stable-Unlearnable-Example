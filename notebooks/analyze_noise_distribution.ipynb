{
 "cells": [
  {
   "cell_type": "code",
   "execution_count": 22,
   "metadata": {},
   "outputs": [],
   "source": [
    "import numpy as np"
   ]
  },
  {
   "cell_type": "code",
   "execution_count": null,
   "metadata": {},
   "outputs": [
    {
     "name": "stdout",
     "output_type": "stream",
     "text": [
      "Collecting hypertools\n",
      "  Downloading hypertools-0.8.0-py3-none-any.whl (59 kB)\n",
      "\u001b[2K     \u001b[90m━━━━━━━━━━━━━━━━━━━━━━━━━━━━━━━━━━━━━━━━\u001b[0m \u001b[32m59.7/59.7 kB\u001b[0m \u001b[31m4.0 MB/s\u001b[0m eta \u001b[36m0:00:00\u001b[0m\n",
      "\u001b[?25hCollecting PPCA>=0.0.2 (from hypertools)\n",
      "  Downloading ppca-0.0.4-py3-none-any.whl (6.7 kB)\n",
      "Requirement already satisfied: scikit-learn>=0.24 in /data/yixin/anaconda/sem/lib/python3.10/site-packages (from hypertools) (1.3.0)\n",
      "Requirement already satisfied: pandas>=0.18.0 in /data/yixin/anaconda/sem/lib/python3.10/site-packages (from hypertools) (2.0.3)\n",
      "Requirement already satisfied: seaborn>=0.8.1 in /data/yixin/anaconda/sem/lib/python3.10/site-packages (from hypertools) (0.12.2)\n",
      "Requirement already satisfied: matplotlib>=1.5.1 in /data/yixin/anaconda/sem/lib/python3.10/site-packages (from hypertools) (3.7.2)\n",
      "Requirement already satisfied: scipy>=1.0.0 in /data/yixin/anaconda/sem/lib/python3.10/site-packages (from hypertools) (1.11.1)\n",
      "Requirement already satisfied: numpy>=1.10.4 in /data/yixin/anaconda/sem/lib/python3.10/site-packages (from hypertools) (1.24.1)\n",
      "Collecting umap-learn>=0.4.6 (from hypertools)\n",
      "  Downloading umap-learn-0.5.4.tar.gz (90 kB)\n",
      "\u001b[2K     \u001b[90m━━━━━━━━━━━━━━━━━━━━━━━━━━━━━━━━━━━━━━━━\u001b[0m \u001b[32m90.8/90.8 kB\u001b[0m \u001b[31m12.3 MB/s\u001b[0m eta \u001b[36m0:00:00\u001b[0m\n",
      "\u001b[?25h  Preparing metadata (setup.py) ... \u001b[?25ldone\n",
      "\u001b[?25hRequirement already satisfied: requests in /data/yixin/anaconda/sem/lib/python3.10/site-packages (from hypertools) (2.31.0)\n",
      "Requirement already satisfied: contourpy>=1.0.1 in /data/yixin/anaconda/sem/lib/python3.10/site-packages (from matplotlib>=1.5.1->hypertools) (1.1.0)\n",
      "Requirement already satisfied: cycler>=0.10 in /data/yixin/anaconda/sem/lib/python3.10/site-packages (from matplotlib>=1.5.1->hypertools) (0.11.0)\n",
      "Requirement already satisfied: fonttools>=4.22.0 in /data/yixin/anaconda/sem/lib/python3.10/site-packages (from matplotlib>=1.5.1->hypertools) (4.40.0)\n",
      "Requirement already satisfied: kiwisolver>=1.0.1 in /data/yixin/anaconda/sem/lib/python3.10/site-packages (from matplotlib>=1.5.1->hypertools) (1.4.4)\n",
      "Requirement already satisfied: packaging>=20.0 in /data/yixin/anaconda/sem/lib/python3.10/site-packages (from matplotlib>=1.5.1->hypertools) (23.1)\n",
      "Requirement already satisfied: pillow>=6.2.0 in /data/yixin/anaconda/sem/lib/python3.10/site-packages (from matplotlib>=1.5.1->hypertools) (9.3.0)\n",
      "Requirement already satisfied: pyparsing<3.1,>=2.3.1 in /data/yixin/anaconda/sem/lib/python3.10/site-packages (from matplotlib>=1.5.1->hypertools) (3.0.9)\n",
      "Requirement already satisfied: python-dateutil>=2.7 in /data/yixin/anaconda/sem/lib/python3.10/site-packages (from matplotlib>=1.5.1->hypertools) (2.8.2)\n",
      "Requirement already satisfied: pytz>=2020.1 in /data/yixin/anaconda/sem/lib/python3.10/site-packages (from pandas>=0.18.0->hypertools) (2023.3)\n",
      "Requirement already satisfied: tzdata>=2022.1 in /data/yixin/anaconda/sem/lib/python3.10/site-packages (from pandas>=0.18.0->hypertools) (2023.3)\n",
      "Requirement already satisfied: joblib>=1.1.1 in /data/yixin/anaconda/sem/lib/python3.10/site-packages (from scikit-learn>=0.24->hypertools) (1.3.1)\n",
      "Requirement already satisfied: threadpoolctl>=2.0.0 in /data/yixin/anaconda/sem/lib/python3.10/site-packages (from scikit-learn>=0.24->hypertools) (3.1.0)\n",
      "Collecting numba>=0.51.2 (from umap-learn>=0.4.6->hypertools)\n",
      "  Downloading numba-0.58.1-cp310-cp310-manylinux2014_x86_64.manylinux_2_17_x86_64.whl (3.6 MB)\n",
      "\u001b[2K     \u001b[90m━━━━━━━━━━━━━━━━━━━━━━━━━━━━━━━━━━━━━━━━\u001b[0m \u001b[32m3.6/3.6 MB\u001b[0m \u001b[31m34.6 MB/s\u001b[0m eta \u001b[36m0:00:00\u001b[0m00:01\u001b[0m00:01\u001b[0m\n",
      "\u001b[?25hCollecting pynndescent>=0.5 (from umap-learn>=0.4.6->hypertools)\n",
      "  Downloading pynndescent-0.5.10.tar.gz (1.1 MB)\n",
      "\u001b[2K     \u001b[90m━━━━━━━━━━━━━━━━━━━━━━━━━━━━━━━━━━━━━━━━\u001b[0m \u001b[32m1.1/1.1 MB\u001b[0m \u001b[31m7.4 MB/s\u001b[0m eta \u001b[36m0:00:00\u001b[0m00:01\u001b[0m00:01\u001b[0mmm\n",
      "\u001b[?25h  Preparing metadata (setup.py) ... \u001b[?25ldone\n",
      "\u001b[?25hRequirement already satisfied: tqdm in /data/yixin/anaconda/sem/lib/python3.10/site-packages (from umap-learn>=0.4.6->hypertools) (4.65.0)\n",
      "Collecting tbb>=2019.0 (from umap-learn>=0.4.6->hypertools)\n",
      "  Downloading tbb-2021.10.0-py2.py3-none-manylinux1_x86_64.whl (4.4 MB)\n",
      "\u001b[2K     \u001b[90m━━━━━━━━━━━━━━━━━━━━━━━━━━━━━━━━━━━━━━━━\u001b[0m \u001b[32m4.4/4.4 MB\u001b[0m \u001b[31m63.9 MB/s\u001b[0m eta \u001b[36m0:00:00\u001b[0mta \u001b[36m0:00:01\u001b[0m\n",
      "\u001b[?25hRequirement already satisfied: charset-normalizer<4,>=2 in /data/yixin/anaconda/sem/lib/python3.10/site-packages (from requests->hypertools) (3.1.0)\n",
      "Requirement already satisfied: idna<4,>=2.5 in /data/yixin/anaconda/sem/lib/python3.10/site-packages (from requests->hypertools) (3.4)\n",
      "Requirement already satisfied: urllib3<3,>=1.21.1 in /data/yixin/anaconda/sem/lib/python3.10/site-packages (from requests->hypertools) (2.0.3)\n",
      "Requirement already satisfied: certifi>=2017.4.17 in /data/yixin/anaconda/sem/lib/python3.10/site-packages (from requests->hypertools) (2023.5.7)\n",
      "Collecting llvmlite<0.42,>=0.41.0dev0 (from numba>=0.51.2->umap-learn>=0.4.6->hypertools)\n",
      "  Downloading llvmlite-0.41.1-cp310-cp310-manylinux_2_17_x86_64.manylinux2014_x86_64.whl (43.6 MB)\n",
      "\u001b[2K     \u001b[90m━━━━━━━━━━━━━━━━━━━━━━━━━━━━━━━━━━━━━━━━\u001b[0m \u001b[32m43.6/43.6 MB\u001b[0m \u001b[31m31.0 MB/s\u001b[0m eta \u001b[36m0:00:00\u001b[0m00:01\u001b[0m00:01\u001b[0m\n",
      "\u001b[?25hRequirement already satisfied: six>=1.5 in /data/yixin/anaconda/sem/lib/python3.10/site-packages (from python-dateutil>=2.7->matplotlib>=1.5.1->hypertools) (1.16.0)\n",
      "Building wheels for collected packages: umap-learn, pynndescent\n",
      "  Building wheel for umap-learn (setup.py) ... \u001b[?25ldone\n",
      "\u001b[?25h  Created wheel for umap-learn: filename=umap_learn-0.5.4-py3-none-any.whl size=86777 sha256=c2b6f74aaaf06c5d445efb676e91427b2ac90068350d72b9cc2cde66f3f56d67\n",
      "  Stored in directory: /root/.cache/pip/wheels/fb/66/29/199acf5784d0f7b8add6d466175ab45506c96e386ed5dd0633\n",
      "  Building wheel for pynndescent (setup.py) ... \u001b[?25ldone\n",
      "\u001b[?25h  Created wheel for pynndescent: filename=pynndescent-0.5.10-py3-none-any.whl size=55622 sha256=b5629dc88572e7c60869d1d4acda194181968c468ee9bd1e91fd8b257dc5c02c\n",
      "  Stored in directory: /root/.cache/pip/wheels/4a/38/5d/f60a40a66a9512b7e5e83517ebc2d1b42d857be97d135f1096\n",
      "Successfully built umap-learn pynndescent\n",
      "Installing collected packages: tbb, llvmlite, PPCA, numba, pynndescent, umap-learn, hypertools\n",
      "Successfully installed PPCA-0.0.4 hypertools-0.8.0 llvmlite-0.41.1 numba-0.58.1 pynndescent-0.5.10 tbb-2021.10.0 umap-learn-0.5.4\n",
      "\u001b[33mWARNING: Running pip as the 'root' user can result in broken permissions and conflicting behaviour with the system package manager. It is recommended to use a virtual environment instead: https://pip.pypa.io/warnings/venv\u001b[0m\u001b[33m\n",
      "\u001b[0m"
     ]
    }
   ],
   "source": [
    "!pip install hypertools"
   ]
  },
  {
   "cell_type": "code",
   "execution_count": 2,
   "metadata": {},
   "outputs": [],
   "source": [
    "import numpy as np \n",
    "adv_noise = np.load(\"./adv_noise_list_2000.npy\")\n"
   ]
  },
  {
   "cell_type": "code",
   "execution_count": 3,
   "metadata": {},
   "outputs": [
    {
     "data": {
      "text/plain": [
       "(-0.015686288, 0.015686288)"
      ]
     },
     "execution_count": 3,
     "metadata": {},
     "output_type": "execute_result"
    }
   ],
   "source": [
    "adv_noise.min(), adv_noise.max()"
   ]
  },
  {
   "cell_type": "code",
   "execution_count": 4,
   "metadata": {},
   "outputs": [],
   "source": [
    "bound = adv_noise.min()"
   ]
  },
  {
   "cell_type": "code",
   "execution_count": 5,
   "metadata": {},
   "outputs": [],
   "source": [
    "random_noise = np.random.uniform(-bound, bound, size=adv_noise.shape)"
   ]
  },
  {
   "cell_type": "code",
   "execution_count": 6,
   "metadata": {},
   "outputs": [
    {
     "data": {
      "text/plain": [
       "(1000, 3, 32, 32)"
      ]
     },
     "execution_count": 6,
     "metadata": {},
     "output_type": "execute_result"
    }
   ],
   "source": [
    "random_noise.shape"
   ]
  },
  {
   "cell_type": "code",
   "execution_count": 7,
   "metadata": {},
   "outputs": [],
   "source": [
    "import numpy as np \n",
    "adv_noise_during_eval = np.load(\"./train_adv_noise_list_1000.npy\")"
   ]
  },
  {
   "cell_type": "code",
   "execution_count": 8,
   "metadata": {},
   "outputs": [
    {
     "data": {
      "text/plain": [
       "(-0.015686288, 0.015686288)"
      ]
     },
     "execution_count": 8,
     "metadata": {},
     "output_type": "execute_result"
    }
   ],
   "source": [
    "adv_noise_during_eval.min(), adv_noise_during_eval.max()"
   ]
  },
  {
   "cell_type": "code",
   "execution_count": 9,
   "metadata": {},
   "outputs": [],
   "source": [
    "adv_noise_during_eval= adv_noise_during_eval.reshape(1000, -1)\n",
    "adv_noise = adv_noise.reshape(1000, -1)\n",
    "random_noise = random_noise.reshape(1000, -1)\n",
    "random_adv2_noise = np.concatenate([random_noise, adv_noise, adv_noise_during_eval], axis=0)\n"
   ]
  },
  {
   "cell_type": "code",
   "execution_count": 10,
   "metadata": {},
   "outputs": [
    {
     "name": "stderr",
     "output_type": "stream",
     "text": [
      "/data/yixin/anaconda/sem/lib/python3.10/site-packages/hypertools/plot/plot.py:345: UserWarning: Using group, color keyword will be ignored.\n",
      "  warnings.warn(\"Using group, color keyword will be ignored.\")\n",
      "/data/yixin/anaconda/sem/lib/python3.10/site-packages/hypertools/plot/plot.py:345: UserWarning: Using group, color keyword will be ignored.\n",
      "  warnings.warn(\"Using group, color keyword will be ignored.\")\n",
      "/data/yixin/anaconda/sem/lib/python3.10/site-packages/hypertools/plot/plot.py:345: UserWarning: Using group, color keyword will be ignored.\n",
      "  warnings.warn(\"Using group, color keyword will be ignored.\")\n",
      "/data/yixin/anaconda/sem/lib/python3.10/site-packages/hypertools/plot/plot.py:345: UserWarning: Using group, color keyword will be ignored.\n",
      "  warnings.warn(\"Using group, color keyword will be ignored.\")\n",
      "/data/yixin/anaconda/sem/lib/python3.10/site-packages/hypertools/plot/plot.py:345: UserWarning: Using group, color keyword will be ignored.\n",
      "  warnings.warn(\"Using group, color keyword will be ignored.\")\n",
      "/data/yixin/anaconda/sem/lib/python3.10/site-packages/hypertools/plot/plot.py:345: UserWarning: Using group, color keyword will be ignored.\n",
      "  warnings.warn(\"Using group, color keyword will be ignored.\")\n",
      "/data/yixin/anaconda/sem/lib/python3.10/site-packages/hypertools/plot/plot.py:345: UserWarning: Using group, color keyword will be ignored.\n",
      "  warnings.warn(\"Using group, color keyword will be ignored.\")\n"
     ]
    }
   ],
   "source": [
    "# plot this \n",
    "\n",
    "import matplotlib.pyplot as plt \n",
    "import hypertools as hyp\n",
    "legend=['Rand.','Adv.','Real.']\n",
    "y_label = np.array([0]*1000 + [1]*1000 + [2]*1000)\n",
    "methods = ['TSNE', 'UMAP', 'Isomap', 'PCA', 'SpectralEmbedding', 'FactorAnalysis', 'TruncatedSVD']\n",
    "for method in methods:\n",
    "    fig, ax= plt.subplots()\n",
    "    hyp.plot(random_adv2_noise, '.', hue=y_label, legend=legend, ndims=2, reduce=method,  color=['#5E57D3','#CC665C','#7DD86E'], ax=ax)\n",
    "    ax.legend(loc='upper center', bbox_to_anchor=(0.5, 1.05), ncol=3)\n",
    "    # plt.title(method)\n",
    "    plt.savefig(\"/data/yixin/workspace/unlearnable_code/yixin/stable-error-miniminzing-noise/exp_data/collect-noise/eval_cifar10-resnet18-8-4/noise_distribution_all_{}.png\".format(method), dpi=300, bbox_inches='tight', pad_inches=0)\n",
    "    plt.close()"
   ]
  },
  {
   "cell_type": "code",
   "execution_count": 48,
   "metadata": {},
   "outputs": [
    {
     "name": "stderr",
     "output_type": "stream",
     "text": [
      "/data/yixin/anaconda/sem/lib/python3.10/site-packages/hypertools/plot/plot.py:345: UserWarning: Using group, color keyword will be ignored.\n",
      "  warnings.warn(\"Using group, color keyword will be ignored.\")\n",
      "/data/yixin/anaconda/sem/lib/python3.10/site-packages/hypertools/plot/plot.py:345: UserWarning: Using group, color keyword will be ignored.\n",
      "  warnings.warn(\"Using group, color keyword will be ignored.\")\n",
      "/data/yixin/anaconda/sem/lib/python3.10/site-packages/hypertools/plot/plot.py:345: UserWarning: Using group, color keyword will be ignored.\n",
      "  warnings.warn(\"Using group, color keyword will be ignored.\")\n",
      "/data/yixin/anaconda/sem/lib/python3.10/site-packages/hypertools/plot/plot.py:345: UserWarning: Using group, color keyword will be ignored.\n",
      "  warnings.warn(\"Using group, color keyword will be ignored.\")\n",
      "/data/yixin/anaconda/sem/lib/python3.10/site-packages/hypertools/plot/plot.py:345: UserWarning: Using group, color keyword will be ignored.\n",
      "  warnings.warn(\"Using group, color keyword will be ignored.\")\n",
      "/data/yixin/anaconda/sem/lib/python3.10/site-packages/hypertools/plot/plot.py:345: UserWarning: Using group, color keyword will be ignored.\n",
      "  warnings.warn(\"Using group, color keyword will be ignored.\")\n",
      "/data/yixin/anaconda/sem/lib/python3.10/site-packages/hypertools/plot/plot.py:345: UserWarning: Using group, color keyword will be ignored.\n",
      "  warnings.warn(\"Using group, color keyword will be ignored.\")\n"
     ]
    }
   ],
   "source": [
    "adv_noise_during_eval = adv_noise_during_eval.reshape(1000, -1)\n",
    "adv_noise = adv_noise.reshape(1000, -1)\n",
    "random_noise = random_noise.reshape(1000, -1)\n",
    "random_adv_noise = np.concatenate([random_noise, adv_noise_during_eval], axis=0)\n",
    "y_label = np.array([0]*1000 + [1]*1000)\n",
    "\n",
    "import matplotlib.pyplot as plt\n",
    "import hypertools as hyp\n",
    "\n",
    "legend = ['Rand.', 'Real.']\n",
    "methods = ['TSNE', 'UMAP', 'Isomap', 'PCA', 'SpectralEmbedding', 'FactorAnalysis', 'TruncatedSVD']\n",
    "\n",
    "for method in methods:\n",
    "    fig, ax = plt.subplots()\n",
    "    ax.axis('off')\n",
    "    hyp.plot(random_adv_noise, '.', hue=y_label, ndims=2, reduce=method, color=['#5E57D3','#7DD86E'], ax=ax, legend=legend,)\n",
    "    # adjust legend position\n",
    "    ax.legend(loc='upper center', bbox_to_anchor=(0.5, 1.05), ncol=2)\n",
    "    fig.savefig(\"/data/yixin/workspace/unlearnable_code/yixin/stable-error-miniminzing-noise/exp_data/collect-noise/eval_cifar10-resnet18-8-4/random2evaladv_noise_distribution_{}.png\".format(method),bbox_inches='tight', pad_inches=0, dpi=300)\n",
    "    plt.close() \n"
   ]
  },
  {
   "cell_type": "code",
   "execution_count": 49,
   "metadata": {},
   "outputs": [
    {
     "name": "stderr",
     "output_type": "stream",
     "text": [
      "/data/yixin/anaconda/sem/lib/python3.10/site-packages/hypertools/plot/plot.py:249: UserWarning: Group will be deprecated. Please use hue keyword argument. See docs for details: http://hypertools.readthedocs.io/en/latest/hypertools.plot.html#hypertools.plot\n",
      "  warnings.warn('Group will be deprecated. Please use '\n",
      "/data/yixin/anaconda/sem/lib/python3.10/site-packages/hypertools/plot/plot.py:345: UserWarning: Using group, color keyword will be ignored.\n",
      "  warnings.warn(\"Using group, color keyword will be ignored.\")\n",
      "/data/yixin/anaconda/sem/lib/python3.10/site-packages/hypertools/plot/plot.py:249: UserWarning: Group will be deprecated. Please use hue keyword argument. See docs for details: http://hypertools.readthedocs.io/en/latest/hypertools.plot.html#hypertools.plot\n",
      "  warnings.warn('Group will be deprecated. Please use '\n",
      "/data/yixin/anaconda/sem/lib/python3.10/site-packages/hypertools/plot/plot.py:345: UserWarning: Using group, color keyword will be ignored.\n",
      "  warnings.warn(\"Using group, color keyword will be ignored.\")\n",
      "/data/yixin/anaconda/sem/lib/python3.10/site-packages/hypertools/plot/plot.py:249: UserWarning: Group will be deprecated. Please use hue keyword argument. See docs for details: http://hypertools.readthedocs.io/en/latest/hypertools.plot.html#hypertools.plot\n",
      "  warnings.warn('Group will be deprecated. Please use '\n",
      "/data/yixin/anaconda/sem/lib/python3.10/site-packages/hypertools/plot/plot.py:345: UserWarning: Using group, color keyword will be ignored.\n",
      "  warnings.warn(\"Using group, color keyword will be ignored.\")\n",
      "/data/yixin/anaconda/sem/lib/python3.10/site-packages/hypertools/plot/plot.py:249: UserWarning: Group will be deprecated. Please use hue keyword argument. See docs for details: http://hypertools.readthedocs.io/en/latest/hypertools.plot.html#hypertools.plot\n",
      "  warnings.warn('Group will be deprecated. Please use '\n",
      "/data/yixin/anaconda/sem/lib/python3.10/site-packages/hypertools/plot/plot.py:345: UserWarning: Using group, color keyword will be ignored.\n",
      "  warnings.warn(\"Using group, color keyword will be ignored.\")\n",
      "/data/yixin/anaconda/sem/lib/python3.10/site-packages/hypertools/plot/plot.py:249: UserWarning: Group will be deprecated. Please use hue keyword argument. See docs for details: http://hypertools.readthedocs.io/en/latest/hypertools.plot.html#hypertools.plot\n",
      "  warnings.warn('Group will be deprecated. Please use '\n",
      "/data/yixin/anaconda/sem/lib/python3.10/site-packages/hypertools/plot/plot.py:345: UserWarning: Using group, color keyword will be ignored.\n",
      "  warnings.warn(\"Using group, color keyword will be ignored.\")\n",
      "/data/yixin/anaconda/sem/lib/python3.10/site-packages/hypertools/plot/plot.py:249: UserWarning: Group will be deprecated. Please use hue keyword argument. See docs for details: http://hypertools.readthedocs.io/en/latest/hypertools.plot.html#hypertools.plot\n",
      "  warnings.warn('Group will be deprecated. Please use '\n",
      "/data/yixin/anaconda/sem/lib/python3.10/site-packages/hypertools/plot/plot.py:345: UserWarning: Using group, color keyword will be ignored.\n",
      "  warnings.warn(\"Using group, color keyword will be ignored.\")\n",
      "/data/yixin/anaconda/sem/lib/python3.10/site-packages/hypertools/plot/plot.py:249: UserWarning: Group will be deprecated. Please use hue keyword argument. See docs for details: http://hypertools.readthedocs.io/en/latest/hypertools.plot.html#hypertools.plot\n",
      "  warnings.warn('Group will be deprecated. Please use '\n",
      "/data/yixin/anaconda/sem/lib/python3.10/site-packages/hypertools/plot/plot.py:345: UserWarning: Using group, color keyword will be ignored.\n",
      "  warnings.warn(\"Using group, color keyword will be ignored.\")\n"
     ]
    }
   ],
   "source": [
    "adv_noise_during_eval= adv_noise_during_eval.reshape(1000, -1)\n",
    "adv_noise = adv_noise.reshape(1000, -1)\n",
    "random_noise = random_noise.reshape(1000, -1)\n",
    "adv2adv_noise = np.concatenate([adv_noise, adv_noise_during_eval], axis=0)\n",
    "y_label = np.array([0]*1000 + [1]*1000)\n",
    "# plot this \n",
    "import matplotlib.pyplot as plt \n",
    "import hypertools as hyp\n",
    "legend=['Adv.','Real.']\n",
    "methods = ['TSNE', 'UMAP', 'Isomap', 'PCA', 'SpectralEmbedding', 'FactorAnalysis', 'TruncatedSVD']\n",
    "import matplotlib.pyplot as plt\n",
    "plt.box(False)\n",
    "for method in methods:\n",
    "    # frameless\n",
    "    fig, ax = plt.subplots()\n",
    "    hyp.plot(adv2adv_noise, '.', group=y_label, legend=legend, ndims=2, reduce=method, color=['#CC665C','#7DD86E'], ax=ax)\n",
    "    # plt.axis('off')\n",
    "    ax.legend(loc='upper center', bbox_to_anchor=(0.5, 1.05), ncol=2)\n",
    "    plt.savefig(\"/data/yixin/workspace/unlearnable_code/yixin/stable-error-miniminzing-noise/exp_data/collect-noise/eval_cifar10-resnet18-8-4/adv2adv_noise_distribution_{}.png\".format(method), bbox_inches='tight', pad_inches=0, dpi=300)\n",
    "    plt.close()"
   ]
  }
 ],
 "metadata": {
  "kernelspec": {
   "display_name": "Python 3",
   "language": "python",
   "name": "python3"
  },
  "language_info": {
   "codemirror_mode": {
    "name": "ipython",
    "version": 3
   },
   "file_extension": ".py",
   "mimetype": "text/x-python",
   "name": "python",
   "nbconvert_exporter": "python",
   "pygments_lexer": "ipython3",
   "version": "3.10.12"
  }
 },
 "nbformat": 4,
 "nbformat_minor": 2
}
